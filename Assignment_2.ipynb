{
  "nbformat": 4,
  "nbformat_minor": 0,
  "metadata": {
    "colab": {
      "provenance": []
    },
    "kernelspec": {
      "name": "python3",
      "display_name": "Python 3"
    },
    "language_info": {
      "name": "python"
    }
  },
  "cells": [
    {
      "cell_type": "code",
      "execution_count": 1,
      "metadata": {
        "colab": {
          "base_uri": "https://localhost:8080/"
        },
        "id": "fHNrbFKF4yxE",
        "outputId": "7d2bcab7-2529-453e-8328-28085ecc4663"
      },
      "outputs": [
        {
          "output_type": "stream",
          "name": "stdout",
          "text": [
            "Initial list:\n",
            "10 -> 20 -> 30 -> 40 -> None\n",
            "\n",
            "Deleting 2nd node:\n",
            "10 -> 30 -> 40 -> None\n",
            "\n",
            "Deleting 1st node:\n",
            "30 -> 40 -> None\n",
            "\n",
            "Attempting to delete the 10th node:\n",
            "Error: Index out of range.\n"
          ]
        }
      ],
      "source": [
        "class Node:\n",
        "    def __init__(self, data):\n",
        "        self.data = data\n",
        "        self.next = None\n",
        "\n",
        "class LinkedList:\n",
        "    def __init__(self):\n",
        "        self.head = None\n",
        "\n",
        "    def add_node(self, data):\n",
        "        \"\"\"Add a node to the end of the list.\"\"\"\n",
        "        new_node = Node(data)\n",
        "        if not self.head:\n",
        "            self.head = new_node\n",
        "        else:\n",
        "            current = self.head\n",
        "            while current.next:\n",
        "                current = current.next\n",
        "            current.next = new_node\n",
        "\n",
        "    def print_list(self):\n",
        "        \"\"\"Print all elements in the list.\"\"\"\n",
        "        if not self.head:\n",
        "            print(\"The list is empty.\")\n",
        "            return\n",
        "        current = self.head\n",
        "        while current:\n",
        "            print(current.data, end=\" -> \")\n",
        "            current = current.next\n",
        "        print(\"None\")\n",
        "\n",
        "    def delete_nth_node(self, n):\n",
        "        \"\"\"Delete the nth node in the list (1-based index).\"\"\"\n",
        "        if not self.head:\n",
        "            raise ValueError(\"Cannot delete from an empty list.\")\n",
        "\n",
        "        if n <= 0:\n",
        "            raise IndexError(\"Index must be a positive integer.\")\n",
        "\n",
        "        if n == 1:\n",
        "            self.head = self.head.next\n",
        "            return\n",
        "\n",
        "        current = self.head\n",
        "        count = 1\n",
        "\n",
        "        while current and count < n - 1:\n",
        "            current = current.next\n",
        "            count += 1\n",
        "\n",
        "        if not current or not current.next:\n",
        "            raise IndexError(\"Index out of range.\")\n",
        "\n",
        "        current.next = current.next.next\n",
        "\n",
        "# Testing the implementation\n",
        "if __name__ == \"__main__\":\n",
        "    try:\n",
        "        # Create a linked list\n",
        "        ll = LinkedList()\n",
        "\n",
        "        # Add nodes to the list\n",
        "        ll.add_node(10)\n",
        "        ll.add_node(20)\n",
        "        ll.add_node(30)\n",
        "        ll.add_node(40)\n",
        "\n",
        "        print(\"Initial list:\")\n",
        "        ll.print_list()\n",
        "\n",
        "        # Delete the 2nd node\n",
        "        print(\"\\nDeleting 2nd node:\")\n",
        "        ll.delete_nth_node(2)\n",
        "        ll.print_list()\n",
        "\n",
        "        # Delete the 1st node\n",
        "        print(\"\\nDeleting 1st node:\")\n",
        "        ll.delete_nth_node(1)\n",
        "        ll.print_list()\n",
        "\n",
        "        # Attempt to delete an out-of-range node\n",
        "        print(\"\\nAttempting to delete the 10th node:\")\n",
        "        ll.delete_nth_node(10)\n",
        "    except (ValueError, IndexError) as e:\n",
        "        print(f\"Error: {e}\")"
      ]
    },
    {
      "cell_type": "code",
      "source": [],
      "metadata": {
        "id": "kAvCj0s044NK"
      },
      "execution_count": null,
      "outputs": []
    }
  ]
}