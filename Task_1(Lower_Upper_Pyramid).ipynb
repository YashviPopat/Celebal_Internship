{
  "nbformat": 4,
  "nbformat_minor": 0,
  "metadata": {
    "colab": {
      "provenance": []
    },
    "kernelspec": {
      "name": "python3",
      "display_name": "Python 3"
    },
    "language_info": {
      "name": "python"
    }
  },
  "cells": [
    {
      "cell_type": "code",
      "execution_count": 10,
      "metadata": {
        "colab": {
          "base_uri": "https://localhost:8080/"
        },
        "id": "Rgj1qvoUBbtW",
        "outputId": "2df06b22-373c-4133-cc5b-cbbad9c4dfcd"
      },
      "outputs": [
        {
          "output_type": "stream",
          "name": "stdout",
          "text": [
            " \n",
            "* \n",
            "** \n",
            "*** \n",
            "**** \n",
            "***** \n",
            "**** \n",
            "*** \n",
            "** \n",
            "* \n"
          ]
        }
      ],
      "source": [
        "for i in range(0,5):\n",
        "  for j in range(0,i):\n",
        "    print(\"*\", end=\"\")\n",
        "  print(\" \")\n",
        "\n",
        "n = 5\n",
        "for i in range(0,n):\n",
        "  for j in range(0,n-i):\n",
        "    print(\"*\", end=\"\")\n",
        "  print(\" \")"
      ]
    },
    {
      "cell_type": "code",
      "source": [],
      "metadata": {
        "id": "pcnhBo0MCKbz"
      },
      "execution_count": null,
      "outputs": []
    }
  ]
}